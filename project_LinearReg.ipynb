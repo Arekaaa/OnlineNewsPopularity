{
 "cells": [
  {
   "cell_type": "code",
   "execution_count": 2,
   "metadata": {},
   "outputs": [
    {
     "data": {
      "text/html": [
       "<div>\n",
       "<style scoped>\n",
       "    .dataframe tbody tr th:only-of-type {\n",
       "        vertical-align: middle;\n",
       "    }\n",
       "\n",
       "    .dataframe tbody tr th {\n",
       "        vertical-align: top;\n",
       "    }\n",
       "\n",
       "    .dataframe thead th {\n",
       "        text-align: right;\n",
       "    }\n",
       "</style>\n",
       "<table border=\"1\" class=\"dataframe\">\n",
       "  <thead>\n",
       "    <tr style=\"text-align: right;\">\n",
       "      <th></th>\n",
       "      <th>url</th>\n",
       "      <th>timedelta</th>\n",
       "      <th>n_tokens_title</th>\n",
       "      <th>n_tokens_content</th>\n",
       "      <th>n_unique_tokens</th>\n",
       "      <th>n_non_stop_words</th>\n",
       "      <th>n_non_stop_unique_tokens</th>\n",
       "      <th>num_hrefs</th>\n",
       "      <th>num_self_hrefs</th>\n",
       "      <th>num_imgs</th>\n",
       "      <th>...</th>\n",
       "      <th>min_positive_polarity</th>\n",
       "      <th>max_positive_polarity</th>\n",
       "      <th>avg_negative_polarity</th>\n",
       "      <th>min_negative_polarity</th>\n",
       "      <th>max_negative_polarity</th>\n",
       "      <th>title_subjectivity</th>\n",
       "      <th>title_sentiment_polarity</th>\n",
       "      <th>abs_title_subjectivity</th>\n",
       "      <th>abs_title_sentiment_polarity</th>\n",
       "      <th>shares</th>\n",
       "    </tr>\n",
       "  </thead>\n",
       "  <tbody>\n",
       "    <tr>\n",
       "      <th>0</th>\n",
       "      <td>http://mashable.com/2013/01/07/amazon-instant-...</td>\n",
       "      <td>731.0</td>\n",
       "      <td>12.0</td>\n",
       "      <td>219.0</td>\n",
       "      <td>0.663594</td>\n",
       "      <td>1.0</td>\n",
       "      <td>0.815385</td>\n",
       "      <td>4.0</td>\n",
       "      <td>2.0</td>\n",
       "      <td>1.0</td>\n",
       "      <td>...</td>\n",
       "      <td>0.100000</td>\n",
       "      <td>0.7</td>\n",
       "      <td>-0.350000</td>\n",
       "      <td>-0.600</td>\n",
       "      <td>-0.200000</td>\n",
       "      <td>0.500000</td>\n",
       "      <td>-0.187500</td>\n",
       "      <td>0.000000</td>\n",
       "      <td>0.187500</td>\n",
       "      <td>593</td>\n",
       "    </tr>\n",
       "    <tr>\n",
       "      <th>1</th>\n",
       "      <td>http://mashable.com/2013/01/07/ap-samsung-spon...</td>\n",
       "      <td>731.0</td>\n",
       "      <td>9.0</td>\n",
       "      <td>255.0</td>\n",
       "      <td>0.604743</td>\n",
       "      <td>1.0</td>\n",
       "      <td>0.791946</td>\n",
       "      <td>3.0</td>\n",
       "      <td>1.0</td>\n",
       "      <td>1.0</td>\n",
       "      <td>...</td>\n",
       "      <td>0.033333</td>\n",
       "      <td>0.7</td>\n",
       "      <td>-0.118750</td>\n",
       "      <td>-0.125</td>\n",
       "      <td>-0.100000</td>\n",
       "      <td>0.000000</td>\n",
       "      <td>0.000000</td>\n",
       "      <td>0.500000</td>\n",
       "      <td>0.000000</td>\n",
       "      <td>711</td>\n",
       "    </tr>\n",
       "    <tr>\n",
       "      <th>2</th>\n",
       "      <td>http://mashable.com/2013/01/07/apple-40-billio...</td>\n",
       "      <td>731.0</td>\n",
       "      <td>9.0</td>\n",
       "      <td>211.0</td>\n",
       "      <td>0.575130</td>\n",
       "      <td>1.0</td>\n",
       "      <td>0.663866</td>\n",
       "      <td>3.0</td>\n",
       "      <td>1.0</td>\n",
       "      <td>1.0</td>\n",
       "      <td>...</td>\n",
       "      <td>0.100000</td>\n",
       "      <td>1.0</td>\n",
       "      <td>-0.466667</td>\n",
       "      <td>-0.800</td>\n",
       "      <td>-0.133333</td>\n",
       "      <td>0.000000</td>\n",
       "      <td>0.000000</td>\n",
       "      <td>0.500000</td>\n",
       "      <td>0.000000</td>\n",
       "      <td>1500</td>\n",
       "    </tr>\n",
       "    <tr>\n",
       "      <th>3</th>\n",
       "      <td>http://mashable.com/2013/01/07/astronaut-notre...</td>\n",
       "      <td>731.0</td>\n",
       "      <td>9.0</td>\n",
       "      <td>531.0</td>\n",
       "      <td>0.503788</td>\n",
       "      <td>1.0</td>\n",
       "      <td>0.665635</td>\n",
       "      <td>9.0</td>\n",
       "      <td>0.0</td>\n",
       "      <td>1.0</td>\n",
       "      <td>...</td>\n",
       "      <td>0.136364</td>\n",
       "      <td>0.8</td>\n",
       "      <td>-0.369697</td>\n",
       "      <td>-0.600</td>\n",
       "      <td>-0.166667</td>\n",
       "      <td>0.000000</td>\n",
       "      <td>0.000000</td>\n",
       "      <td>0.500000</td>\n",
       "      <td>0.000000</td>\n",
       "      <td>1200</td>\n",
       "    </tr>\n",
       "    <tr>\n",
       "      <th>4</th>\n",
       "      <td>http://mashable.com/2013/01/07/att-u-verse-apps/</td>\n",
       "      <td>731.0</td>\n",
       "      <td>13.0</td>\n",
       "      <td>1072.0</td>\n",
       "      <td>0.415646</td>\n",
       "      <td>1.0</td>\n",
       "      <td>0.540890</td>\n",
       "      <td>19.0</td>\n",
       "      <td>19.0</td>\n",
       "      <td>20.0</td>\n",
       "      <td>...</td>\n",
       "      <td>0.033333</td>\n",
       "      <td>1.0</td>\n",
       "      <td>-0.220192</td>\n",
       "      <td>-0.500</td>\n",
       "      <td>-0.050000</td>\n",
       "      <td>0.454545</td>\n",
       "      <td>0.136364</td>\n",
       "      <td>0.045455</td>\n",
       "      <td>0.136364</td>\n",
       "      <td>505</td>\n",
       "    </tr>\n",
       "  </tbody>\n",
       "</table>\n",
       "<p>5 rows × 61 columns</p>\n",
       "</div>"
      ],
      "text/plain": [
       "                                                 url   timedelta  \\\n",
       "0  http://mashable.com/2013/01/07/amazon-instant-...       731.0   \n",
       "1  http://mashable.com/2013/01/07/ap-samsung-spon...       731.0   \n",
       "2  http://mashable.com/2013/01/07/apple-40-billio...       731.0   \n",
       "3  http://mashable.com/2013/01/07/astronaut-notre...       731.0   \n",
       "4   http://mashable.com/2013/01/07/att-u-verse-apps/       731.0   \n",
       "\n",
       "    n_tokens_title   n_tokens_content   n_unique_tokens   n_non_stop_words  \\\n",
       "0             12.0              219.0          0.663594                1.0   \n",
       "1              9.0              255.0          0.604743                1.0   \n",
       "2              9.0              211.0          0.575130                1.0   \n",
       "3              9.0              531.0          0.503788                1.0   \n",
       "4             13.0             1072.0          0.415646                1.0   \n",
       "\n",
       "    n_non_stop_unique_tokens   num_hrefs   num_self_hrefs   num_imgs  ...  \\\n",
       "0                   0.815385         4.0              2.0        1.0  ...   \n",
       "1                   0.791946         3.0              1.0        1.0  ...   \n",
       "2                   0.663866         3.0              1.0        1.0  ...   \n",
       "3                   0.665635         9.0              0.0        1.0  ...   \n",
       "4                   0.540890        19.0             19.0       20.0  ...   \n",
       "\n",
       "    min_positive_polarity   max_positive_polarity   avg_negative_polarity  \\\n",
       "0                0.100000                     0.7               -0.350000   \n",
       "1                0.033333                     0.7               -0.118750   \n",
       "2                0.100000                     1.0               -0.466667   \n",
       "3                0.136364                     0.8               -0.369697   \n",
       "4                0.033333                     1.0               -0.220192   \n",
       "\n",
       "    min_negative_polarity   max_negative_polarity   title_subjectivity  \\\n",
       "0                  -0.600               -0.200000             0.500000   \n",
       "1                  -0.125               -0.100000             0.000000   \n",
       "2                  -0.800               -0.133333             0.000000   \n",
       "3                  -0.600               -0.166667             0.000000   \n",
       "4                  -0.500               -0.050000             0.454545   \n",
       "\n",
       "    title_sentiment_polarity   abs_title_subjectivity  \\\n",
       "0                  -0.187500                 0.000000   \n",
       "1                   0.000000                 0.500000   \n",
       "2                   0.000000                 0.500000   \n",
       "3                   0.000000                 0.500000   \n",
       "4                   0.136364                 0.045455   \n",
       "\n",
       "    abs_title_sentiment_polarity   shares  \n",
       "0                       0.187500      593  \n",
       "1                       0.000000      711  \n",
       "2                       0.000000     1500  \n",
       "3                       0.000000     1200  \n",
       "4                       0.136364      505  \n",
       "\n",
       "[5 rows x 61 columns]"
      ]
     },
     "execution_count": 2,
     "metadata": {},
     "output_type": "execute_result"
    }
   ],
   "source": [
    "import pandas as pd\n",
    "import numpy as np\n",
    "import seaborn as sns\n",
    "import matplotlib.pyplot as plt\n",
    "\n",
    "news_data = pd.read_csv('./OnlineNewsPopularity.csv')\n",
    "news_data.head()\n",
    "\n",
    "# Regresja liniowa z usunięciem wartości odstających"
   ]
  },
  {
   "cell_type": "code",
   "execution_count": 3,
   "metadata": {},
   "outputs": [
    {
     "data": {
      "text/plain": [
       "(39644, 61)"
      ]
     },
     "execution_count": 3,
     "metadata": {},
     "output_type": "execute_result"
    }
   ],
   "source": [
    "news_data.shape"
   ]
  },
  {
   "cell_type": "code",
   "execution_count": 4,
   "metadata": {},
   "outputs": [
    {
     "name": "stdout",
     "output_type": "stream",
     "text": [
      "\n",
      "First artcile in database\n",
      "url                              http://mashable.com/2013/01/07/amazon-instant-...\n",
      " timedelta                                                                     731\n",
      " n_tokens_title                                                                 12\n",
      " n_tokens_content                                                              219\n",
      " n_unique_tokens                                                          0.663594\n",
      "                                                       ...                        \n",
      " title_subjectivity                                                            0.5\n",
      " title_sentiment_polarity                                                  -0.1875\n",
      " abs_title_subjectivity                                                          0\n",
      " abs_title_sentiment_polarity                                               0.1875\n",
      " shares                                                                        593\n",
      "Name: 0, Length: 61, dtype: object\n"
     ]
    }
   ],
   "source": [
    "print(\"\\nFirst artcile in database\")\n",
    "print(news_data.iloc[0,:])"
   ]
  },
  {
   "cell_type": "code",
   "execution_count": 5,
   "metadata": {},
   "outputs": [
    {
     "data": {
      "text/plain": [
       "url                              0\n",
       " timedelta                       0\n",
       " n_tokens_title                  0\n",
       " n_tokens_content                0\n",
       " n_unique_tokens                 0\n",
       "                                ..\n",
       " title_subjectivity              0\n",
       " title_sentiment_polarity        0\n",
       " abs_title_subjectivity          0\n",
       " abs_title_sentiment_polarity    0\n",
       " shares                          0\n",
       "Length: 61, dtype: int64"
      ]
     },
     "execution_count": 5,
     "metadata": {},
     "output_type": "execute_result"
    }
   ],
   "source": [
    "#SPRAWDZENIE PUSTYCH WARTOŚCI\n",
    "news_data.isnull().sum()"
   ]
  },
  {
   "cell_type": "code",
   "execution_count": 6,
   "metadata": {},
   "outputs": [
    {
     "data": {
      "text/plain": [
       " shares                           1.000000\n",
       " kw_avg_avg                       0.110413\n",
       " LDA_03                           0.083771\n",
       " kw_max_avg                       0.064306\n",
       " self_reference_avg_sharess       0.057789\n",
       " self_reference_min_shares        0.055958\n",
       " self_reference_max_shares        0.047115\n",
       " num_hrefs                        0.045404\n",
       " kw_avg_max                       0.044686\n",
       " kw_min_avg                       0.039551\n",
       " num_imgs                         0.039388\n",
       " global_subjectivity              0.031604\n",
       " kw_avg_min                       0.030406\n",
       " kw_max_min                       0.030114\n",
       " abs_title_sentiment_polarity     0.027135\n",
       " num_videos                       0.023936\n",
       " title_subjectivity               0.021967\n",
       " num_keywords                     0.021818\n",
       " is_weekend                       0.016958\n",
       " weekday_is_saturday              0.015082\n",
       " title_sentiment_polarity         0.012772\n",
       " avg_positive_polarity            0.012142\n",
       " max_positive_polarity            0.010068\n",
       " weekday_is_monday                0.009726\n",
       " n_tokens_title                   0.008783\n",
       " timedelta                        0.008662\n",
       " weekday_is_sunday                0.008230\n",
       " kw_max_max                       0.007863\n",
       " global_rate_negative_words       0.006615\n",
       " data_channel_is_lifestyle        0.005831\n",
       " data_channel_is_socmed           0.005021\n",
       " global_sentiment_polarity        0.004163\n",
       " kw_min_max                       0.003901\n",
       " n_tokens_content                 0.002459\n",
       " abs_title_subjectivity           0.001481\n",
       " n_unique_tokens                  0.000806\n",
       " global_rate_positive_words       0.000543\n",
       " n_non_stop_words                 0.000443\n",
       " n_non_stop_unique_tokens         0.000114\n",
       " min_positive_polarity           -0.000040\n",
       " kw_min_min                      -0.001051\n",
       " num_self_hrefs                  -0.001900\n",
       " LDA_00                          -0.003793\n",
       " weekday_is_wednesday            -0.003801\n",
       " weekday_is_friday               -0.003884\n",
       " rate_negative_words             -0.005183\n",
       " weekday_is_tuesday              -0.007941\n",
       " weekday_is_thursday             -0.008833\n",
       " LDA_01                          -0.010183\n",
       " data_channel_is_bus             -0.012376\n",
       " rate_positive_words             -0.013241\n",
       " data_channel_is_tech            -0.013253\n",
       " LDA_04                          -0.016622\n",
       " data_channel_is_entertainment   -0.017006\n",
       " min_negative_polarity           -0.019297\n",
       " max_negative_polarity           -0.019300\n",
       " average_token_length            -0.022007\n",
       " avg_negative_polarity           -0.032029\n",
       " data_channel_is_world           -0.049497\n",
       " LDA_02                          -0.059163\n",
       "Name:  shares, dtype: float64"
      ]
     },
     "execution_count": 6,
     "metadata": {},
     "output_type": "execute_result"
    }
   ],
   "source": [
    "#Sprawdzenie korelacji\n",
    "corrmat = news_data.corr()\n",
    "corrmat[' shares'].sort_values(ascending=False)\n"
   ]
  },
  {
   "cell_type": "code",
   "execution_count": 7,
   "metadata": {},
   "outputs": [
    {
     "data": {
      "text/plain": [
       "Text(0, 0.5, 'shares')"
      ]
     },
     "execution_count": 7,
     "metadata": {},
     "output_type": "execute_result"
    },
    {
     "data": {
      "image/png": "[encoded data removed]",
      "text/plain": [
       "<Figure size 1152x288 with 1 Axes>"
      ]
     },
     "metadata": {
      "needs_background": "light"
     },
     "output_type": "display_data"
    }
   ],
   "source": [
    "#Wartości odstające - Wykres\n",
    "\n",
    "fig_size = plt.rcParams[\"figure.figsize\"]\n",
    "fig_size[0] = 16.0\n",
    "fig_size[1] = 4.0\n",
    "\n",
    "x = news_data[' shares']\n",
    "plt.hist(x, density=True, bins=250)\n",
    "plt.ylabel('shares')\n"
   ]
  },
  {
   "cell_type": "code",
   "execution_count": 8,
   "metadata": {},
   "outputs": [
    {
     "data": {
      "image/png": "[encoded data removed]",
      "text/plain": [
       "<Figure size 1152x288 with 1 Axes>"
      ]
     },
     "metadata": {
      "needs_background": "light"
     },
     "output_type": "display_data"
    },
    {
     "data": {
      "text/plain": [
       "(39053, 1)"
      ]
     },
     "execution_count": 8,
     "metadata": {},
     "output_type": "execute_result"
    }
   ],
   "source": [
    "#Usuwanie wartości odstających\n",
    "\n",
    "def reject_outliers(shares):\n",
    "    u = np.median(news_data[' shares'])\n",
    "    s = np.std(news_data[' shares'])\n",
    "    filtered= [e for e in (news_data[' shares']) if (u - 2 * s < e < u + 2 * s)]\n",
    "    return filtered\n",
    "\n",
    "fig_size = plt.rcParams[\"figure.figsize\"]\n",
    "fig_size[0] =16.0\n",
    "fig_size[1] = 4.0\n",
    "\n",
    "filtered = reject_outliers('shares')\n",
    "plt.hist(filtered, 100)\n",
    "fig_size[0]=16.0\n",
    "fig_size[1]=8.0\n",
    "plt.show()\n",
    "\n",
    "news_data_shares = pd.DataFrame(filtered)\n",
    "news_data_shares.shape\n",
    "\n",
    "#Oryginalna liczba wierszy to 39644. Dzięki użyciu powyższej funkcji usunęliśmy 591 wartości odstających w podanym datasecie"
   ]
  },
  {
   "cell_type": "code",
   "execution_count": 9,
   "metadata": {},
   "outputs": [],
   "source": [
    "#Tworzenie nowych danych bez wartości odstających.\n",
    "#Definiujemy wartość odstającą jako wartość atrybutu „shares”, która jest poza dwoma standardowymi odchyleniami\n",
    "#(= 3395 + (2 x 11627) = 26649)\n",
    "fixedData = news_data[news_data[' shares']<26647]\n"
   ]
  },
  {
   "cell_type": "code",
   "execution_count": 10,
   "metadata": {},
   "outputs": [
    {
     "data": {
      "text/plain": [
       " shares                           1.000000\n",
       " kw_avg_avg                       0.184027\n",
       " LDA_03                           0.122997\n",
       " kw_max_avg                       0.096294\n",
       " kw_min_avg                       0.081258\n",
       " num_hrefs                        0.076651\n",
       " num_imgs                         0.073403\n",
       " self_reference_avg_sharess       0.067889\n",
       " is_weekend                       0.067792\n",
       " self_reference_min_shares        0.060230\n",
       " self_reference_max_shares        0.055830\n",
       " kw_avg_max                       0.052563\n",
       " global_subjectivity              0.052508\n",
       " abs_title_sentiment_polarity     0.052128\n",
       " weekday_is_sunday                0.049506\n",
       " title_subjectivity               0.048917\n",
       " data_channel_is_socmed           0.047302\n",
       " num_keywords                     0.044302\n",
       " weekday_is_saturday              0.042820\n",
       " title_sentiment_polarity         0.037470\n",
       " num_videos                       0.036995\n",
       " kw_avg_min                       0.036717\n",
       " kw_max_min                       0.033022\n",
       " data_channel_is_lifestyle        0.026978\n",
       " avg_positive_polarity            0.025177\n",
       " timedelta                        0.023637\n",
       " global_sentiment_polarity        0.023579\n",
       " max_positive_polarity            0.020573\n",
       " data_channel_is_tech             0.016993\n",
       " global_rate_positive_words       0.016370\n",
       " kw_min_max                       0.012799\n",
       " num_self_hrefs                   0.009980\n",
       " LDA_04                           0.009807\n",
       " kw_min_min                       0.008761\n",
       " kw_max_max                       0.007237\n",
       " global_rate_negative_words       0.006929\n",
       " n_tokens_content                 0.006910\n",
       " n_unique_tokens                  0.003802\n",
       " n_non_stop_words                 0.003639\n",
       " n_non_stop_unique_tokens         0.002656\n",
       " min_positive_polarity            0.000800\n",
       " abs_title_subjectivity          -0.000191\n",
       " weekday_is_friday               -0.000756\n",
       " weekday_is_monday               -0.002512\n",
       " LDA_00                          -0.002641\n",
       " max_negative_polarity           -0.011562\n",
       " n_tokens_title                  -0.015063\n",
       " weekday_is_thursday             -0.017074\n",
       " rate_positive_words             -0.017177\n",
       " weekday_is_tuesday              -0.017381\n",
       " min_negative_polarity           -0.021077\n",
       " weekday_is_wednesday            -0.021179\n",
       " LDA_01                          -0.023066\n",
       " rate_negative_words             -0.023626\n",
       " avg_negative_polarity           -0.033089\n",
       " data_channel_is_entertainment   -0.043201\n",
       " data_channel_is_bus             -0.044540\n",
       " average_token_length            -0.046229\n",
       " data_channel_is_world           -0.103841\n",
       " LDA_02                          -0.117410\n",
       "Name:  shares, dtype: float64"
      ]
     },
     "execution_count": 10,
     "metadata": {},
     "output_type": "execute_result"
    }
   ],
   "source": [
    "#Korelacja w fixedData\n",
    "corrmat = fixedData.corr()\n",
    "corrmat[' shares'].sort_values(ascending=False)"
   ]
  },
  {
   "cell_type": "code",
   "execution_count": 11,
   "metadata": {},
   "outputs": [
    {
     "data": {
      "text/html": [
       "<div>\n",
       "<style scoped>\n",
       "    .dataframe tbody tr th:only-of-type {\n",
       "        vertical-align: middle;\n",
       "    }\n",
       "\n",
       "    .dataframe tbody tr th {\n",
       "        vertical-align: top;\n",
       "    }\n",
       "\n",
       "    .dataframe thead th {\n",
       "        text-align: right;\n",
       "    }\n",
       "</style>\n",
       "<table border=\"1\" class=\"dataframe\">\n",
       "  <thead>\n",
       "    <tr style=\"text-align: right;\">\n",
       "      <th></th>\n",
       "      <th>n_tokens_title</th>\n",
       "      <th>n_tokens_content</th>\n",
       "      <th>n_unique_tokens</th>\n",
       "      <th>n_non_stop_words</th>\n",
       "      <th>n_non_stop_unique_tokens</th>\n",
       "      <th>num_hrefs</th>\n",
       "      <th>num_self_hrefs</th>\n",
       "      <th>num_imgs</th>\n",
       "      <th>num_videos</th>\n",
       "      <th>average_token_length</th>\n",
       "      <th>...</th>\n",
       "      <th>avg_positive_polarity</th>\n",
       "      <th>min_positive_polarity</th>\n",
       "      <th>max_positive_polarity</th>\n",
       "      <th>avg_negative_polarity</th>\n",
       "      <th>min_negative_polarity</th>\n",
       "      <th>max_negative_polarity</th>\n",
       "      <th>title_subjectivity</th>\n",
       "      <th>title_sentiment_polarity</th>\n",
       "      <th>abs_title_subjectivity</th>\n",
       "      <th>abs_title_sentiment_polarity</th>\n",
       "    </tr>\n",
       "  </thead>\n",
       "  <tbody>\n",
       "    <tr>\n",
       "      <th>1</th>\n",
       "      <td>9.0</td>\n",
       "      <td>255.0</td>\n",
       "      <td>0.604743</td>\n",
       "      <td>1.0</td>\n",
       "      <td>0.791946</td>\n",
       "      <td>3.0</td>\n",
       "      <td>1.0</td>\n",
       "      <td>1.0</td>\n",
       "      <td>0.0</td>\n",
       "      <td>4.913725</td>\n",
       "      <td>...</td>\n",
       "      <td>0.286915</td>\n",
       "      <td>0.033333</td>\n",
       "      <td>0.7</td>\n",
       "      <td>-0.118750</td>\n",
       "      <td>-0.125</td>\n",
       "      <td>-0.100000</td>\n",
       "      <td>0.000000</td>\n",
       "      <td>0.000000</td>\n",
       "      <td>0.500000</td>\n",
       "      <td>0.000000</td>\n",
       "    </tr>\n",
       "    <tr>\n",
       "      <th>2</th>\n",
       "      <td>9.0</td>\n",
       "      <td>211.0</td>\n",
       "      <td>0.575130</td>\n",
       "      <td>1.0</td>\n",
       "      <td>0.663866</td>\n",
       "      <td>3.0</td>\n",
       "      <td>1.0</td>\n",
       "      <td>1.0</td>\n",
       "      <td>0.0</td>\n",
       "      <td>4.393365</td>\n",
       "      <td>...</td>\n",
       "      <td>0.495833</td>\n",
       "      <td>0.100000</td>\n",
       "      <td>1.0</td>\n",
       "      <td>-0.466667</td>\n",
       "      <td>-0.800</td>\n",
       "      <td>-0.133333</td>\n",
       "      <td>0.000000</td>\n",
       "      <td>0.000000</td>\n",
       "      <td>0.500000</td>\n",
       "      <td>0.000000</td>\n",
       "    </tr>\n",
       "    <tr>\n",
       "      <th>3</th>\n",
       "      <td>9.0</td>\n",
       "      <td>531.0</td>\n",
       "      <td>0.503788</td>\n",
       "      <td>1.0</td>\n",
       "      <td>0.665635</td>\n",
       "      <td>9.0</td>\n",
       "      <td>0.0</td>\n",
       "      <td>1.0</td>\n",
       "      <td>0.0</td>\n",
       "      <td>4.404896</td>\n",
       "      <td>...</td>\n",
       "      <td>0.385965</td>\n",
       "      <td>0.136364</td>\n",
       "      <td>0.8</td>\n",
       "      <td>-0.369697</td>\n",
       "      <td>-0.600</td>\n",
       "      <td>-0.166667</td>\n",
       "      <td>0.000000</td>\n",
       "      <td>0.000000</td>\n",
       "      <td>0.500000</td>\n",
       "      <td>0.000000</td>\n",
       "    </tr>\n",
       "    <tr>\n",
       "      <th>4</th>\n",
       "      <td>13.0</td>\n",
       "      <td>1072.0</td>\n",
       "      <td>0.415646</td>\n",
       "      <td>1.0</td>\n",
       "      <td>0.540890</td>\n",
       "      <td>19.0</td>\n",
       "      <td>19.0</td>\n",
       "      <td>20.0</td>\n",
       "      <td>0.0</td>\n",
       "      <td>4.682836</td>\n",
       "      <td>...</td>\n",
       "      <td>0.411127</td>\n",
       "      <td>0.033333</td>\n",
       "      <td>1.0</td>\n",
       "      <td>-0.220192</td>\n",
       "      <td>-0.500</td>\n",
       "      <td>-0.050000</td>\n",
       "      <td>0.454545</td>\n",
       "      <td>0.136364</td>\n",
       "      <td>0.045455</td>\n",
       "      <td>0.136364</td>\n",
       "    </tr>\n",
       "    <tr>\n",
       "      <th>5</th>\n",
       "      <td>10.0</td>\n",
       "      <td>370.0</td>\n",
       "      <td>0.559889</td>\n",
       "      <td>1.0</td>\n",
       "      <td>0.698198</td>\n",
       "      <td>2.0</td>\n",
       "      <td>2.0</td>\n",
       "      <td>0.0</td>\n",
       "      <td>0.0</td>\n",
       "      <td>4.359459</td>\n",
       "      <td>...</td>\n",
       "      <td>0.350610</td>\n",
       "      <td>0.136364</td>\n",
       "      <td>0.6</td>\n",
       "      <td>-0.195000</td>\n",
       "      <td>-0.400</td>\n",
       "      <td>-0.100000</td>\n",
       "      <td>0.642857</td>\n",
       "      <td>0.214286</td>\n",
       "      <td>0.142857</td>\n",
       "      <td>0.214286</td>\n",
       "    </tr>\n",
       "  </tbody>\n",
       "</table>\n",
       "<p>5 rows × 58 columns</p>\n",
       "</div>"
      ],
      "text/plain": [
       "    n_tokens_title   n_tokens_content   n_unique_tokens   n_non_stop_words  \\\n",
       "1              9.0              255.0          0.604743                1.0   \n",
       "2              9.0              211.0          0.575130                1.0   \n",
       "3              9.0              531.0          0.503788                1.0   \n",
       "4             13.0             1072.0          0.415646                1.0   \n",
       "5             10.0              370.0          0.559889                1.0   \n",
       "\n",
       "    n_non_stop_unique_tokens   num_hrefs   num_self_hrefs   num_imgs  \\\n",
       "1                   0.791946         3.0              1.0        1.0   \n",
       "2                   0.663866         3.0              1.0        1.0   \n",
       "3                   0.665635         9.0              0.0        1.0   \n",
       "4                   0.540890        19.0             19.0       20.0   \n",
       "5                   0.698198         2.0              2.0        0.0   \n",
       "\n",
       "    num_videos   average_token_length  ...   avg_positive_polarity  \\\n",
       "1          0.0               4.913725  ...                0.286915   \n",
       "2          0.0               4.393365  ...                0.495833   \n",
       "3          0.0               4.404896  ...                0.385965   \n",
       "4          0.0               4.682836  ...                0.411127   \n",
       "5          0.0               4.359459  ...                0.350610   \n",
       "\n",
       "    min_positive_polarity   max_positive_polarity   avg_negative_polarity  \\\n",
       "1                0.033333                     0.7               -0.118750   \n",
       "2                0.100000                     1.0               -0.466667   \n",
       "3                0.136364                     0.8               -0.369697   \n",
       "4                0.033333                     1.0               -0.220192   \n",
       "5                0.136364                     0.6               -0.195000   \n",
       "\n",
       "    min_negative_polarity   max_negative_polarity   title_subjectivity  \\\n",
       "1                  -0.125               -0.100000             0.000000   \n",
       "2                  -0.800               -0.133333             0.000000   \n",
       "3                  -0.600               -0.166667             0.000000   \n",
       "4                  -0.500               -0.050000             0.454545   \n",
       "5                  -0.400               -0.100000             0.642857   \n",
       "\n",
       "    title_sentiment_polarity   abs_title_subjectivity  \\\n",
       "1                   0.000000                 0.500000   \n",
       "2                   0.000000                 0.500000   \n",
       "3                   0.000000                 0.500000   \n",
       "4                   0.136364                 0.045455   \n",
       "5                   0.214286                 0.142857   \n",
       "\n",
       "    abs_title_sentiment_polarity  \n",
       "1                       0.000000  \n",
       "2                       0.000000  \n",
       "3                       0.000000  \n",
       "4                       0.136364  \n",
       "5                       0.214286  \n",
       "\n",
       "[5 rows x 58 columns]"
      ]
     },
     "execution_count": 11,
     "metadata": {},
     "output_type": "execute_result"
    }
   ],
   "source": [
    "#USTALENIE DANYCH WEJŚCIOWYCH I TARGETU\n",
    "data = fixedData.iloc[1:,2:-1]\n",
    "target = fixedData.iloc[1:,-1]\n",
    "\n",
    "data.head()"
   ]
  },
  {
   "cell_type": "code",
   "execution_count": 12,
   "metadata": {},
   "outputs": [
    {
     "data": {
      "text/plain": [
       "1     711\n",
       "2    1500\n",
       "3    1200\n",
       "4     505\n",
       "5     855\n",
       "Name:  shares, dtype: int64"
      ]
     },
     "execution_count": 12,
     "metadata": {},
     "output_type": "execute_result"
    }
   ],
   "source": [
    "target.head()"
   ]
  },
  {
   "cell_type": "code",
   "execution_count": 14,
   "metadata": {},
   "outputs": [
    {
     "data": {
      "text/plain": [
       "array([[3.33333333e-01, 3.00920463e-02, 8.62686278e-04, ...,\n",
       "        5.00000000e-01, 1.00000000e+00, 0.00000000e+00],\n",
       "       [3.33333333e-01, 2.48996932e-02, 8.20441556e-04, ...,\n",
       "        5.00000000e-01, 1.00000000e+00, 0.00000000e+00],\n",
       "       [3.33333333e-01, 6.26622610e-02, 7.18670296e-04, ...,\n",
       "        5.00000000e-01, 1.00000000e+00, 0.00000000e+00],\n",
       "       ...,\n",
       "       [3.80952381e-01, 5.21595468e-02, 7.36597916e-04, ...,\n",
       "        5.68181818e-01, 9.09090909e-02, 1.36363636e-01],\n",
       "       [1.90476190e-01, 8.04814727e-02, 7.69605268e-04, ...,\n",
       "        5.00000000e-01, 1.00000000e+00, 0.00000000e+00],\n",
       "       [3.80952381e-01, 1.85272599e-02, 1.00140763e-03, ...,\n",
       "        6.25000000e-01, 3.33333333e-01, 2.50000000e-01]])"
      ]
     },
     "execution_count": 14,
     "metadata": {},
     "output_type": "execute_result"
    }
   ],
   "source": [
    "# STANDARYZACJA\n",
    "from sklearn.preprocessing import MinMaxScaler \n",
    "\n",
    "scaler = MinMaxScaler()\n",
    "data = scaler.fit_transform(data)\n",
    "data"
   ]
  },
  {
   "cell_type": "code",
   "execution_count": 15,
   "metadata": {},
   "outputs": [
    {
     "name": "stdout",
     "output_type": "stream",
     "text": [
      "Training dataset:\n",
      "data_train: (35216, 58)\n",
      "target_train: (35216,)\n",
      "\n",
      "Testing dataset:\n",
      "data_test: (3913, 58)\n",
      "target_test: (3913,)\n"
     ]
    }
   ],
   "source": [
    "#DZIELENIE DANYCH NA MODELE UCZĄCE I TESTOWE\n",
    "\n",
    "from sklearn.model_selection import train_test_split\n",
    "data_train, data_test, target_train, target_test = train_test_split(data, target, test_size = 0.10)\n",
    "print(\"Training dataset:\")\n",
    "print(\"data_train:\", data_train.shape)\n",
    "print(\"target_train:\", target_train.shape)\n",
    "print(\"\\nTesting dataset:\")\n",
    "print(\"data_test:\", data_test.shape)\n",
    "print(\"target_test:\", target_test.shape)"
   ]
  },
  {
   "cell_type": "code",
   "execution_count": 16,
   "metadata": {},
   "outputs": [
    {
     "data": {
      "text/plain": [
       "LinearRegression(copy_X=True, fit_intercept=True, n_jobs=None, normalize=False)"
      ]
     },
     "execution_count": 16,
     "metadata": {},
     "output_type": "execute_result"
    }
   ],
   "source": [
    "#UCZENIE MODELU\n",
    "from sklearn.linear_model import LinearRegression\n",
    "\n",
    "linear_regression = LinearRegression()\n",
    "linear_regression.fit(data_train, target_train)"
   ]
  },
  {
   "cell_type": "code",
   "execution_count": 17,
   "metadata": {},
   "outputs": [],
   "source": [
    "#PRZEWIDYWANIE\n",
    "prediction_linear = linear_regression.predict(data_test)"
   ]
  },
  {
   "cell_type": "code",
   "execution_count": 18,
   "metadata": {},
   "outputs": [
    {
     "data": {
      "text/html": [
       "<div>\n",
       "<style scoped>\n",
       "    .dataframe tbody tr th:only-of-type {\n",
       "        vertical-align: middle;\n",
       "    }\n",
       "\n",
       "    .dataframe tbody tr th {\n",
       "        vertical-align: top;\n",
       "    }\n",
       "\n",
       "    .dataframe thead th {\n",
       "        text-align: right;\n",
       "    }\n",
       "</style>\n",
       "<table border=\"1\" class=\"dataframe\">\n",
       "  <thead>\n",
       "    <tr style=\"text-align: right;\">\n",
       "      <th></th>\n",
       "      <th>Actual shares</th>\n",
       "      <th>Predicted shares</th>\n",
       "    </tr>\n",
       "  </thead>\n",
       "  <tbody>\n",
       "    <tr>\n",
       "      <th>0</th>\n",
       "      <td>821</td>\n",
       "      <td>1840.0</td>\n",
       "    </tr>\n",
       "    <tr>\n",
       "      <th>1</th>\n",
       "      <td>1500</td>\n",
       "      <td>1888.0</td>\n",
       "    </tr>\n",
       "    <tr>\n",
       "      <th>2</th>\n",
       "      <td>1500</td>\n",
       "      <td>1312.0</td>\n",
       "    </tr>\n",
       "    <tr>\n",
       "      <th>3</th>\n",
       "      <td>4400</td>\n",
       "      <td>3696.0</td>\n",
       "    </tr>\n",
       "    <tr>\n",
       "      <th>4</th>\n",
       "      <td>1700</td>\n",
       "      <td>3312.0</td>\n",
       "    </tr>\n",
       "    <tr>\n",
       "      <th>5</th>\n",
       "      <td>3000</td>\n",
       "      <td>2656.0</td>\n",
       "    </tr>\n",
       "    <tr>\n",
       "      <th>6</th>\n",
       "      <td>1100</td>\n",
       "      <td>1280.0</td>\n",
       "    </tr>\n",
       "    <tr>\n",
       "      <th>7</th>\n",
       "      <td>708</td>\n",
       "      <td>2176.0</td>\n",
       "    </tr>\n",
       "    <tr>\n",
       "      <th>8</th>\n",
       "      <td>1300</td>\n",
       "      <td>3408.0</td>\n",
       "    </tr>\n",
       "    <tr>\n",
       "      <th>9</th>\n",
       "      <td>733</td>\n",
       "      <td>3424.0</td>\n",
       "    </tr>\n",
       "  </tbody>\n",
       "</table>\n",
       "</div>"
      ],
      "text/plain": [
       "   Actual shares  Predicted shares\n",
       "0            821            1840.0\n",
       "1           1500            1888.0\n",
       "2           1500            1312.0\n",
       "3           4400            3696.0\n",
       "4           1700            3312.0\n",
       "5           3000            2656.0\n",
       "6           1100            1280.0\n",
       "7            708            2176.0\n",
       "8           1300            3408.0\n",
       "9            733            3424.0"
      ]
     },
     "execution_count": 18,
     "metadata": {},
     "output_type": "execute_result"
    }
   ],
   "source": [
    "df_someXdata = pd.DataFrame(linear_regression.predict(data_train),list(target_train) )\n",
    "df_someXdata.reset_index(level=0, inplace=True)\n",
    "df_someXdata_LR = df_someXdata.rename(index=str, columns={\"index\": \"Actual shares\", 0: \"Predicted shares\"})\n",
    "df_someXdata_LR.head(10)"
   ]
  },
  {
   "cell_type": "code",
   "execution_count": 19,
   "metadata": {},
   "outputs": [
    {
     "name": "stdout",
     "output_type": "stream",
     "text": [
      "Wykres predykcji\n"
     ]
    },
    {
     "data": {
      "image/png": "[encoded data removed]",
      "text/plain": [
       "<Figure size 1152x576 with 1 Axes>"
      ]
     },
     "metadata": {
      "needs_background": "light"
     },
     "output_type": "display_data"
    }
   ],
   "source": [
    "#WYKRES PREDYKCJI\n",
    "plt.scatter(target_test, prediction_linear)\n",
    "print(\"Wykres predykcji\")\n"
   ]
  },
  {
   "cell_type": "code",
   "execution_count": 20,
   "metadata": {},
   "outputs": [
    {
     "name": "stdout",
     "output_type": "stream",
     "text": [
      "Średni błąd kwadratu wyuczonego modelu: 9834572.68\n",
      "Pierwiastek średniego błędu kwadratowego: 3136.01\n"
     ]
    }
   ],
   "source": [
    "#Ocena jakości metodą średniego błędu kwadratowego\n",
    "from sklearn.metrics import mean_squared_error\n",
    "mse =  mean_squared_error(target_test, prediction_linear)\n",
    "rmse = np.sqrt(mse)\n",
    "print(\"Średni błąd kwadratu wyuczonego modelu: %.2f\" %  mse)\n",
    "print(\"Pierwiastek średniego błędu kwadratowego: %.2f\" %  rmse)\n"
   ]
  },
  {
   "cell_type": "code",
   "execution_count": 22,
   "metadata": {},
   "outputs": [
    {
     "name": "stdout",
     "output_type": "stream",
     "text": [
      "Variance score: 0.08\n"
     ]
    }
   ],
   "source": [
    "from sklearn.metrics import r2_score\n",
    "print('Variance score: %.2f' % r2_score(target_test, linear_regression.predict(data_test)))"
   ]
  },
  {
   "cell_type": "code",
   "execution_count": 22,
   "metadata": {},
   "outputs": [],
   "source": [
    "#Wizualizacja na wykresie\n",
    "#plt.scatter(new_X[:, 0], new_X[:, 1],\n",
    "#            c=target, edgecolor='none', alpha=0.5,\n",
    "#            cmap=plt.cm.get_cmap('Accent', 10))\n",
    "#plt.xlabel('component 1component 1')\n",
    "#plt.ylabel('component 2')\n",
    "#plt.title('Dimmensionality reduction using SVD')\n",
    "#plt.colorbar();"
   ]
  },
  {
   "cell_type": "code",
   "execution_count": 23,
   "metadata": {},
   "outputs": [],
   "source": [
    "#Explained Variance -> SVD for Online news popularity\n",
    "\n",
    "#pca = PCA().fit(svd_data)\n",
    "#plt.plot(np.cumsum(pca.explained_variance_ratio_))\n",
    "#plt.xlabel('components')\n",
    "#plt.ylabel('Explained variance');"
   ]
  },
  {
   "cell_type": "code",
   "execution_count": null,
   "metadata": {},
   "outputs": [],
   "source": [
    "#SVD redukcja wymiarowości i/lub sieć neuronowa\n",
    "\n",
    "#Zrobić porównanie:\n",
    "#1. Czysta regresja liniowa z usunięciem wartości odstających - Zrobione\n",
    "#2. Regresja liniowa z usuniętymi wartościami odstającymi z zastosowaniem SVD redukcji wymiarowości - DO ZROBIENIA\n",
    "#3. Czysty model sieci neuronowej z usuniętymi wartościami odstającymi - DO ZROBIENIA\n",
    "#4. Model sieci neuronowej z usunięciem wartości odstających z zastosowaniem SVD redukcji wymiarowości - DO ZROBIENIA\n",
    "\n",
    "# Porównać wyniki w każdym przypadku -> Sprawdzić który uczy się najlepiej.\n",
    "# W każdym z czterech przypadków - utworzyć porównanie średniego błędu kwadratowego i pierwiastka,\n",
    "# a także wynik r2_score (Variance Score).\n",
    "\n",
    "# Protipy od prowadzącego:\n",
    "# 1. Jeśli okaże się, że w każdym z 4 przypadków wynik variance score jest bardzo niski to nic się nie dzieję. \n",
    "#    Wtedy po prostu należy wykazać i porównać jak wyniki zmieniały się w każdym przypadku.\n",
    "# 2. Dobrą ocenę można zdobyć nawet jeśli wynik variance score jest niski, pod warunkiem że każdy model ładnie się opiszę.\n",
    "#    Opis powinien zawierać, dlaczego zdecydowaliśmy się na zastosowanie kolejnego modelu oraz czy \n",
    "#    nowy model lepiej/gorzej się uczy.\n",
    "#    Czyli np. regresja liniowa ma fatalny wynik, więc spróbujemy zastosować do niej redukcje wymiarowości w celu \n",
    "#    ulepszenia modelu. Itd itp z każdym kolejnym modelem.\n",
    "# 3. Jeśli średni błąd kwadratu jest bardzo wysoki (kilka milionów) to wcale nie oznacza, że model jest \n",
    "#    niepoprawny/źle wyuczony. Z kolei model jest źle wyuczony gdy wynik R2_Score jest niski.\n",
    "# 4. Aby można było powiedzieć, że model jest wyuczony poprawnie, jego minimalny wynik R2_Score powinien wynosić 60-70%\n",
    "#    co prawdopodobnie jest nieosiągalne na podstawie tych danych -> Lecz to się okaże :D\n",
    "\n"
   ]
  }
 ],
 "metadata": {
  "kernelspec": {
   "display_name": "Python 3",
   "language": "python",
   "name": "python3"
  },
  "language_info": {
   "codemirror_mode": {
    "name": "ipython",
    "version": 3
   },
   "file_extension": ".py",
   "mimetype": "text/x-python",
   "name": "python",
   "nbconvert_exporter": "python",
   "pygments_lexer": "ipython3",
   "version": "3.7.6"
  }
 },
 "nbformat": 4,
 "nbformat_minor": 4
}
